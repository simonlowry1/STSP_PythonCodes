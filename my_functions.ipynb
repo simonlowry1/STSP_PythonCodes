{
 "cells": [
  {
   "cell_type": "code",
   "execution_count": 1,
   "id": "497130dc",
   "metadata": {},
   "outputs": [],
   "source": [
    "import numpy as np\n",
    "import matplotlib.pyplot as plt\n",
    "%matplotlib inline"
   ]
  },
  {
   "cell_type": "code",
   "execution_count": 2,
   "id": "c1e7de86",
   "metadata": {},
   "outputs": [],
   "source": [
    "def save_lc(lc,filename):\n",
    "    '''This function takes a lightcurve and saves it to the koi_data.txt file'''\n",
    "    lc_data = np.array([lc[0],lc[1],lc[2]]).transpose()\n",
    "    np.savetxt(filename,lc_data, fmt='%6f')"
   ]
  },
  {
   "cell_type": "code",
   "execution_count": 3,
   "id": "9484d97a",
   "metadata": {},
   "outputs": [],
   "source": [
    "def fivecolumn_file_to_array(file):\n",
    "    '''This function takes data from a txt file and returns the time, flux, and err columns as arrays'''\n",
    "    time,input_flux,flux_err,output_flux,irrelevant = np.loadtxt(file,unpack=True)\n",
    "    return time,input_flux,flux_err,output_flux"
   ]
  },
  {
   "cell_type": "code",
   "execution_count": 4,
   "id": "b24f93ae",
   "metadata": {},
   "outputs": [],
   "source": [
    "def threecolumn_file_to_array(file):\n",
    "    '''This function takes data from a txt file and returns the time, flux, and err columns as arrays'''\n",
    "    time,input_flux,flux_err = np.loadtxt(file,unpack=True)\n",
    "    return time,input_flux,flux_err"
   ]
  },
  {
   "cell_type": "code",
   "execution_count": 5,
   "id": "c88443d0",
   "metadata": {},
   "outputs": [],
   "source": [
    "def normalise(lc):\n",
    "    peak = np.percentile(lc['flux'], 97)\n",
    "    lc_norm = lc\n",
    "    lc_norm['flux'] = lc['flux']/peak\n",
    "    lc_norm['flux_err'] = lc['flux_err']/peak\n",
    "    return lc_norm"
   ]
  },
  {
   "cell_type": "code",
   "execution_count": 6,
   "id": "3a2bcb6a",
   "metadata": {},
   "outputs": [],
   "source": [
    "def plot_model(file,i):\n",
    "    stsp_output = fivecolumn_file_to_array(file)\n",
    "    #og_data = threecolumn_file_to_array('Transit_15/koi_data_t15.txt')\n",
    "    fig,ax = plt.subplots(figsize=(10,5))\n",
    "    ax.plot(stsp_output[0],stsp_output[3],ls='-',lw=0.5,marker='.',ms=5,c='r',label='STSP Model')\n",
    "    ax.plot(stsp_output[0],stsp_output[1],ls='-',lw=0.5,marker='.',ms=5,c='b',label='Original Data')\n",
    "    #ax.plot(og_data[0],og_data[1],ls='-',lw=0.5,marker='.',ms=1,c='g',label='Original Unbinned Data')\n",
    "    lgd = ax.legend(edgecolor='k', fontsize=18)\n",
    "    #ax.set_title(transit_names[i-1], fontsize=18, fontweight='bold')\n",
    "    ax.set_xlabel('Time (BJD - 245833 days)', fontsize=18)\n",
    "    ax.set_ylabel('Relative Flux', fontsize=18)"
   ]
  },
  {
   "cell_type": "code",
   "execution_count": 7,
   "id": "ed6871ad",
   "metadata": {},
   "outputs": [],
   "source": [
    "def centre_transit(lc,midpoint,period):\n",
    "    times = []\n",
    "    fluxes = []\n",
    "    fluxerrs = []\n",
    "    for i in range(len(lc['time'])):\n",
    "        times.append(lc['time'][i]) #.value)\n",
    "    for i in range(len(lc['flux'])):\n",
    "        fluxes.append(lc['flux'][i])\n",
    "    for i in range(len(lc['flux_err'])):\n",
    "        fluxerrs.append(lc['flux_err'][i])\n",
    "    start_point = midpoint - period/2\n",
    "    end_point = midpoint + period/2\n",
    "    transit_time = []\n",
    "    transit_flux = []\n",
    "    transit_errs = []\n",
    "    for i in range(len(times)):\n",
    "        if start_point < times[i] < end_point:\n",
    "            transit_time.append(times[i])\n",
    "            transit_flux.append(fluxes[i])\n",
    "            transit_errs.append(fluxerrs[i])\n",
    "    centred_array = np.array([transit_time,transit_flux,transit_errs])\n",
    "    return centred_array"
   ]
  },
  {
   "cell_type": "code",
   "execution_count": 8,
   "id": "614ed28e",
   "metadata": {},
   "outputs": [],
   "source": [
    "def plot_transit(i):\n",
    "    '''There are 46 transits in all of the Kepler data for KOI-340. This function plots the centred (i+1)th transit'''\n",
    "    transit_data = centre_transit(koi_final_lc,transit_midpoints[i])\n",
    "    start_point = transit_midpoints[i] - 12.962304/2\n",
    "    end_point = transit_midpoints[i] + 12.962304/2\n",
    "    title = transit_names[i]\n",
    "    fig,ax = plt.subplots(figsize=(7,4))\n",
    "    ax.plot(transit_data[0],transit_data[1],ls='-',lw=0.5,marker='o',ms=3,c='k')\n",
    "    #ax.set_title(title,fontsize=18,fontweight='bold')\n",
    "    ax.set_xlabel('Time (BJD - 245833 days)',fontsize=18,fontweight='bold')\n",
    "    ax.set_ylabel('Relative Flux',fontsize=18,fontweight='bold')\n",
    "    ax.set_xlim(start_point,end_point)"
   ]
  },
  {
   "cell_type": "code",
   "execution_count": 9,
   "id": "2acedf0b",
   "metadata": {},
   "outputs": [],
   "source": [
    "def parambest_to_total_spotted_area(transit):\n",
    "    file = open('Transit_{}/koi340_actionU_ex_parambest.txt'.format(transit))\n",
    "    file_list = []\n",
    "    for i in file:\n",
    "        file_list.append(i)\n",
    "    num_spots = int((len(file_list) - 3) / 6)\n",
    "    spot_radii = []\n",
    "    for i in range(num_spots):\n",
    "        spot_radii.append(float(file_list[i*3].strip()))\n",
    "    each_spot_areas = []\n",
    "    for i in range(len(spot_radii)):\n",
    "        area = 2*np.pi*(1 - np.cos(np.arcsin(spot_radii[i])))\n",
    "        each_spot_areas.append(area)\n",
    "    total_spotted_area = sum(each_spot_areas)/(4*np.pi)\n",
    "    \n",
    "    return total_spotted_area"
   ]
  },
  {
   "cell_type": "code",
   "execution_count": 10,
   "id": "2b09864c",
   "metadata": {},
   "outputs": [],
   "source": [
    "def parambest_to_intransit_spotted_area(transit):\n",
    "    file = open('Transit_{}/koi340_actionU_ex_parambest.txt'.format(transit))\n",
    "    num_intransit_spots = fixed_spot_nums[stsp_transits.index(transit)]\n",
    "    file_list = []\n",
    "    for i in file:\n",
    "        file_list.append(i)\n",
    "    spot_radii = []\n",
    "    for i in range(num_intransit_spots):\n",
    "        spot_radii.append(float(file_list[i*3].strip()))\n",
    "    each_spot_areas = []\n",
    "    for i in range(len(spot_radii)):\n",
    "        area = 2*np.pi*(1 - np.cos(np.arcsin(spot_radii[i])))\n",
    "        each_spot_areas.append(area)\n",
    "    total_spotted_area = sum(each_spot_areas)/(4*np.pi)\n",
    "    \n",
    "    return total_spotted_area"
   ]
  },
  {
   "cell_type": "code",
   "execution_count": 11,
   "id": "0770f91a",
   "metadata": {},
   "outputs": [],
   "source": [
    "def parambest_to_outoftransit_spotted_area(transit):\n",
    "    file = open('Transit_{}/koi340_actionU_ex_parambest.txt'.format(transit))\n",
    "    file_list = []\n",
    "    for i in file:\n",
    "        file_list.append(i)\n",
    "    spot_radii = []\n",
    "    num_outoftransit_spots = int((len(file_list) - 3) / 6) - fixed_spot_nums[stsp_transits.index(transit)]\n",
    "    num_intransit_spots = fixed_spot_nums[stsp_transits.index(transit)]\n",
    "    file_list_without_fixed_spots = file_list[(num_intransit_spots*3):]\n",
    "    for i in range(num_outoftransit_spots):\n",
    "        spot_radii.append(float(file_list_without_fixed_spots[i*3].strip()))\n",
    "    each_spot_areas = []\n",
    "    for i in range(len(spot_radii)):\n",
    "        area = 2*np.pi*(1 - np.cos(np.arcsin(spot_radii[i])))\n",
    "        each_spot_areas.append(area)\n",
    "    total_spotted_area = sum(each_spot_areas)/(4*np.pi)\n",
    "    \n",
    "    return total_spotted_area"
   ]
  }
 ],
 "metadata": {
  "kernelspec": {
   "display_name": "Python 3",
   "language": "python",
   "name": "python3"
  },
  "language_info": {
   "codemirror_mode": {
    "name": "ipython",
    "version": 3
   },
   "file_extension": ".py",
   "mimetype": "text/x-python",
   "name": "python",
   "nbconvert_exporter": "python",
   "pygments_lexer": "ipython3",
   "version": "3.8.8"
  }
 },
 "nbformat": 4,
 "nbformat_minor": 5
}
